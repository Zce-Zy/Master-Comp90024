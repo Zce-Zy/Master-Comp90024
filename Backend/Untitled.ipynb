{
 "cells": [
  {
   "cell_type": "code",
   "execution_count": 2,
   "metadata": {},
   "outputs": [],
   "source": [
    "import pandas as pd\n",
    "\n",
    "\n",
    "gfile = pd.ExcelFile('./AURData/senType.xlsx')\n",
    "sheetnames = gfile.sheet_names\n",
    "df1 = gfile.parse(sheet_name=gfile.sheet_names[0])\n"
   ]
  },
  {
   "cell_type": "code",
   "execution_count": 7,
   "metadata": {},
   "outputs": [],
   "source": [
    "sumdata = df1.groupby('SA_name').sum()"
   ]
  },
  {
   "cell_type": "code",
   "execution_count": 10,
   "metadata": {},
   "outputs": [],
   "source": [
    "sumdata = sumdata.T"
   ]
  },
  {
   "cell_type": "code",
   "execution_count": 18,
   "metadata": {},
   "outputs": [
    {
     "data": {
      "text/plain": [
       "{'year': 4041.0,\n",
       " 'negative': 265.0,\n",
       " 'neutral': 1112.0,\n",
       " 'positive': 674.0,\n",
       " 'sum': 2051.0,\n",
       " 'neg_ratio': 0.24700705752675275,\n",
       " 'neu_ratio': 1.054739208311858,\n",
       " 'pos_ratio': 0.6982537341613893}"
      ]
     },
     "execution_count": 18,
     "metadata": {},
     "output_type": "execute_result"
    }
   ],
   "source": [
    "sumdata.to_dict()['Ballarat']"
   ]
  },
  {
   "cell_type": "code",
   "execution_count": null,
   "metadata": {},
   "outputs": [],
   "source": []
  }
 ],
 "metadata": {
  "kernelspec": {
   "display_name": "Python 3",
   "language": "python",
   "name": "python3"
  },
  "language_info": {
   "codemirror_mode": {
    "name": "ipython",
    "version": 3
   },
   "file_extension": ".py",
   "mimetype": "text/x-python",
   "name": "python",
   "nbconvert_exporter": "python",
   "pygments_lexer": "ipython3",
   "version": "3.7.4"
  }
 },
 "nbformat": 4,
 "nbformat_minor": 2
}
